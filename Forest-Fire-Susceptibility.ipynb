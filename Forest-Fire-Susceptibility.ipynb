{
 "cells": [
  {
   "cell_type": "code",
   "execution_count": 1,
   "id": "4b3305ba",
   "metadata": {},
   "outputs": [
    {
     "name": "stdout",
     "output_type": "stream",
     "text": [
      "pygame 2.1.2 (SDL 2.0.18, Python 3.9.12)\n",
      "Hello from the pygame community. https://www.pygame.org/contribute.html\n"
     ]
    }
   ],
   "source": [
    "import tensorflow as tf\n",
    "from tensorflow import keras\n",
    "from tensorflow.keras.preprocessing.image import ImageDataGenerator\n",
    "from tensorflow.keras.models import Sequential\n",
    "from tensorflow.keras.utils import to_categorical\n",
    "from tensorflow.keras.models import load_model\n",
    "from tensorflow.keras.preprocessing import image\n",
    "import numpy as np\n",
    "#for media\n",
    "from pygame import mixer"
   ]
  },
  {
   "cell_type": "code",
   "execution_count": 2,
   "id": "27f697ad",
   "metadata": {},
   "outputs": [
    {
     "data": {
      "text/plain": [
       "'2.8.0'"
      ]
     },
     "execution_count": 2,
     "metadata": {},
     "output_type": "execute_result"
    }
   ],
   "source": [
    "tf.__version__"
   ]
  },
  {
   "cell_type": "code",
   "execution_count": 3,
   "id": "7fff949f",
   "metadata": {},
   "outputs": [
    {
     "name": "stdout",
     "output_type": "stream",
     "text": [
      "Num GPUs available:  0\n"
     ]
    }
   ],
   "source": [
    "print(\"Num GPUs available: \" ,len(tf.config.list_physical_devices('GPU')))"
   ]
  },
  {
   "cell_type": "code",
   "execution_count": 4,
   "id": "d4fbdc2a",
   "metadata": {},
   "outputs": [
    {
     "data": {
      "text/plain": [
       "True"
      ]
     },
     "execution_count": 4,
     "metadata": {},
     "output_type": "execute_result"
    }
   ],
   "source": [
    "tf.test.is_built_with_cuda()"
   ]
  },
  {
   "cell_type": "code",
   "execution_count": 5,
   "id": "ea0f9227",
   "metadata": {},
   "outputs": [
    {
     "data": {
      "text/plain": [
       "'3.9.12 (main, Apr  4 2022, 05:22:27) [MSC v.1916 64 bit (AMD64)]'"
      ]
     },
     "execution_count": 5,
     "metadata": {},
     "output_type": "execute_result"
    }
   ],
   "source": [
    "import sys\n",
    "sys.version"
   ]
  },
  {
   "cell_type": "code",
   "execution_count": 6,
   "id": "bdd7397c",
   "metadata": {},
   "outputs": [
    {
     "name": "stdout",
     "output_type": "stream",
     "text": [
      "WARNING:tensorflow:From C:\\Users\\chand\\AppData\\Local\\Temp\\ipykernel_5196\\337460670.py:1: is_gpu_available (from tensorflow.python.framework.test_util) is deprecated and will be removed in a future version.\n",
      "Instructions for updating:\n",
      "Use `tf.config.list_physical_devices('GPU')` instead.\n"
     ]
    },
    {
     "data": {
      "text/plain": [
       "False"
      ]
     },
     "execution_count": 6,
     "metadata": {},
     "output_type": "execute_result"
    }
   ],
   "source": [
    "tf.test.is_gpu_available()"
   ]
  },
  {
   "cell_type": "markdown",
   "id": "c523127f",
   "metadata": {},
   "source": [
    "# Preparing data, Data Agumentation by rescaling and reseizing, 255 total pixel size"
   ]
  },
  {
   "cell_type": "code",
   "execution_count": 7,
   "id": "f49aaccb",
   "metadata": {},
   "outputs": [],
   "source": [
    "#Rescaling \n",
    "batch_size = 16\n",
    "training_datagenerator = ImageDataGenerator(rescale=1.0/255,horizontal_flip=True, \n",
    "                                             vertical_flip=True, \n",
    "                                             zoom_range=0.2, shear_range=0.2,\n",
    "                                            width_shift_range=0.2, height_shift_range=0.2,\n",
    "                                           validation_split=0.2)\n"
   ]
  },
  {
   "cell_type": "code",
   "execution_count": 8,
   "id": "793ce66c",
   "metadata": {},
   "outputs": [
    {
     "name": "stdout",
     "output_type": "stream",
     "text": [
      "Found 11725 images belonging to 3 classes.\n",
      "Found 2931 images belonging to 3 classes.\n"
     ]
    }
   ],
   "source": [
    "#Data is being divided into training and validation.\n",
    "#Reseizing\n",
    "training = training_datagenerator.flow_from_directory(r\"C:\\Users\\chand\\OneDrive\\Desktop\\Project_Phase\\FireDataset\\Training Data\", \n",
    "                                                       target_size = (256,256), color_mode = 'rgb', \n",
    "                                                       class_mode = 'categorical', batch_size = 16,\n",
    "                                                       subset = 'training')\n",
    "\n",
    "\n",
    "#validation means to find and optimiz the best model to solve a given problem \n",
    "validation=training_datagenerator.flow_from_directory(r\"C:\\Users\\chand\\OneDrive\\Desktop\\Project_Phase\\FireDataset\\Training Data\",\n",
    "                                                target_size=(256, 256),color_mode='rgb',\n",
    "                                       class_mode='categorical', batch_size=16,subset='validation')"
   ]
  },
  {
   "cell_type": "code",
   "execution_count": 9,
   "id": "4409250d",
   "metadata": {},
   "outputs": [
    {
     "data": {
      "text/plain": [
       "{'Fire': 0, 'NoFire': 1, 'Smoke': 2}"
      ]
     },
     "execution_count": 9,
     "metadata": {},
     "output_type": "execute_result"
    }
   ],
   "source": [
    "validation.class_indices"
   ]
  },
  {
   "cell_type": "code",
   "execution_count": 10,
   "id": "d2605ffb",
   "metadata": {},
   "outputs": [
    {
     "data": {
      "text/plain": [
       "{'Fire': 0, 'NoFire': 1, 'Smoke': 2}"
      ]
     },
     "execution_count": 10,
     "metadata": {},
     "output_type": "execute_result"
    }
   ],
   "source": [
    "training.class_indices"
   ]
  },
  {
   "cell_type": "markdown",
   "id": "eddf73b8",
   "metadata": {},
   "source": [
    "# CNN architecture\n"
   ]
  },
  {
   "cell_type": "code",
   "execution_count": 11,
   "id": "97b112c6",
   "metadata": {},
   "outputs": [],
   "source": [
    "#Cnn Architechture or Initializing cnn Architechture\n",
    "cnn=tf.keras.models.Sequential()\n",
    "\n",
    "#Adding 1st layer / Input Layer\n",
    "cnn.add(tf.keras.layers.Conv2D(filters=32, padding='same', kernel_size=3, activation='relu', input_shape=[256,256,3]))\n",
    "#Polling Layer\n",
    "cnn.add(tf.keras.layers.MaxPool2D(pool_size=2))\n",
    "\n",
    "#Adding 2nd layer \n",
    "cnn.add(tf.keras.layers.Conv2D(filters=64, padding='same', kernel_size=3, activation='relu'))\n",
    "#Polling Layer\n",
    "cnn.add(tf.keras.layers.MaxPool2D(pool_size=2))\n",
    "\n",
    "#Adding 3rd layer \n",
    "cnn.add(tf.keras.layers.Conv2D(filters=256, padding='same', kernel_size=3, activation='relu'))\n",
    "#Polling Layer\n",
    "cnn.add(tf.keras.layers.MaxPool2D(pool_size=2))\n",
    "\n",
    "#falttened layer\n",
    "cnn.add(tf.keras.layers.Flatten())\n",
    "\n",
    "#hidden Layer\n",
    "cnn.add(tf.keras.layers.Dense(units=128,activation='relu'))\n",
    "cnn.add(tf.keras.layers.Dense(units=128,activation='relu'))\n",
    "cnn.add(tf.keras.layers.Dense(units=128,activation='relu'))\n",
    "\n",
    "#output Layer\n",
    "cnn.add(tf.keras.layers.Dense(units=3, activation='softmax'))"
   ]
  },
  {
   "cell_type": "code",
   "execution_count": 12,
   "id": "e29f5b9c",
   "metadata": {},
   "outputs": [
    {
     "name": "stdout",
     "output_type": "stream",
     "text": [
      "Model: \"sequential\"\n",
      "_________________________________________________________________\n",
      " Layer (type)                Output Shape              Param #   \n",
      "=================================================================\n",
      " conv2d (Conv2D)             (None, 256, 256, 32)      896       \n",
      "                                                                 \n",
      " max_pooling2d (MaxPooling2D  (None, 128, 128, 32)     0         \n",
      " )                                                               \n",
      "                                                                 \n",
      " conv2d_1 (Conv2D)           (None, 128, 128, 64)      18496     \n",
      "                                                                 \n",
      " max_pooling2d_1 (MaxPooling  (None, 64, 64, 64)       0         \n",
      " 2D)                                                             \n",
      "                                                                 \n",
      " conv2d_2 (Conv2D)           (None, 64, 64, 256)       147712    \n",
      "                                                                 \n",
      " max_pooling2d_2 (MaxPooling  (None, 32, 32, 256)      0         \n",
      " 2D)                                                             \n",
      "                                                                 \n",
      " flatten (Flatten)           (None, 262144)            0         \n",
      "                                                                 \n",
      " dense (Dense)               (None, 128)               33554560  \n",
      "                                                                 \n",
      " dense_1 (Dense)             (None, 128)               16512     \n",
      "                                                                 \n",
      " dense_2 (Dense)             (None, 128)               16512     \n",
      "                                                                 \n",
      " dense_3 (Dense)             (None, 3)                 387       \n",
      "                                                                 \n",
      "=================================================================\n",
      "Total params: 33,755,075\n",
      "Trainable params: 33,755,075\n",
      "Non-trainable params: 0\n",
      "_________________________________________________________________\n"
     ]
    }
   ],
   "source": [
    "cnn.summary()"
   ]
  },
  {
   "cell_type": "code",
   "execution_count": 13,
   "id": "80ec820e",
   "metadata": {},
   "outputs": [],
   "source": [
    "#after every model to check \n",
    "ckeckpoint=tf.keras.callbacks.ModelCheckpoint(r'C:\\Users\\chand\\OneDrive\\Desktop\\Project_Phase\\FireDataset\\Training models\\model.h5', \n",
    "                                              monitor='val_loss',\n",
    "                                              mode=\"min\",\n",
    "                                              save_weights_only=False,\n",
    "                                              save_best_only=True)\n",
    "callbacks = ckeckpoint"
   ]
  },
  {
   "cell_type": "code",
   "execution_count": 14,
   "id": "42d0deb5",
   "metadata": {
    "scrolled": true
   },
   "outputs": [
    {
     "name": "stderr",
     "output_type": "stream",
     "text": [
      "C:\\Users\\chand\\AppData\\Local\\Temp\\ipykernel_25472\\519380754.py:4: UserWarning: `Model.fit_generator` is deprecated and will be removed in a future version. Please use `Model.fit`, which supports generators.\n",
      "  cnn.fit_generator(training, validation_data=validation, epochs=2,\n"
     ]
    },
    {
     "name": "stdout",
     "output_type": "stream",
     "text": [
      "Epoch 1/2\n",
      "732/732 [==============================] - 1212s 2s/step - loss: 0.0892 - accuracy: 0.9572 - val_loss: 0.0670 - val_accuracy: 0.9686\n",
      "Epoch 2/2\n",
      "732/732 [==============================] - 1142s 2s/step - loss: 0.0513 - accuracy: 0.9734 - val_loss: 0.0508 - val_accuracy: 0.9833\n"
     ]
    },
    {
     "data": {
      "text/plain": [
       "<keras.callbacks.History at 0x1a300ca9fd0>"
      ]
     },
     "execution_count": 14,
     "metadata": {},
     "output_type": "execute_result"
    }
   ],
   "source": [
    "#Training the CNN Model i.e. Compile and Train\n",
    "cnn.compile(optimizer='Adam',loss='binary_crossentropy', metrics=['accuracy'])\n",
    "\n",
    "cnn.fit_generator(training, validation_data=validation, epochs=2, \n",
    "                  steps_per_epoch=training.samples//16,\n",
    "                  validation_steps=validation.samples//16,\n",
    "                  callbacks = callbacks)\n",
    "#\"steps_per_epoch=  It is used to define how many batches of samples to use in one epoch. \n",
    "#It is used to declaring one epoch finished and starting the next epoch\""
   ]
  },
  {
   "cell_type": "markdown",
   "id": "7377e7f5",
   "metadata": {},
   "source": [
    "cnn.summary()"
   ]
  },
  {
   "cell_type": "code",
   "execution_count": 14,
   "id": "d4a51d30",
   "metadata": {},
   "outputs": [],
   "source": [
    "image_for_testing=r'C:\\Users\\chand\\OneDrive\\Desktop\\Project_Phase\\FireDataset\\Training Data\\Fire\\1.png'"
   ]
  },
  {
   "cell_type": "code",
   "execution_count": 15,
   "id": "a19f4993",
   "metadata": {},
   "outputs": [
    {
     "data": {
      "text/plain": [
       "'C:\\\\Users\\\\chand\\\\OneDrive\\\\Desktop\\\\Project_Phase\\\\FireDataset\\\\Training Data\\\\Fire\\\\1.png'"
      ]
     },
     "execution_count": 15,
     "metadata": {},
     "output_type": "execute_result"
    }
   ],
   "source": [
    "image_for_testing"
   ]
  },
  {
   "cell_type": "code",
   "execution_count": 16,
   "id": "6f6c85a8",
   "metadata": {},
   "outputs": [],
   "source": [
    "test_image=image.load_img(image_for_testing,target_size=(256,256))"
   ]
  },
  {
   "cell_type": "code",
   "execution_count": 17,
   "id": "f00f4d0a",
   "metadata": {},
   "outputs": [
    {
     "data": {
      "image/png": "[encoded data removed]",
      "text/plain": [
       "<PIL.Image.Image image mode=RGB size=256x256>"
      ]
     },
     "execution_count": 17,
     "metadata": {},
     "output_type": "execute_result"
    }
   ],
   "source": [
    "test_image"
   ]
  },
  {
   "cell_type": "code",
   "execution_count": 18,
   "id": "254a327d",
   "metadata": {},
   "outputs": [],
   "source": [
    "test_image = image.img_to_array(test_image)"
   ]
  },
  {
   "cell_type": "code",
   "execution_count": 19,
   "id": "2e5217c2",
   "metadata": {},
   "outputs": [
    {
     "data": {
      "text/plain": [
       "array([[[65., 58., 63.],\n",
       "        [65., 58., 62.],\n",
       "        [67., 57., 61.],\n",
       "        ...,\n",
       "        [85., 61., 55.],\n",
       "        [85., 61., 53.],\n",
       "        [87., 61., 51.]],\n",
       "\n",
       "       [[64., 57., 61.],\n",
       "        [65., 58., 61.],\n",
       "        [67., 58., 59.],\n",
       "        ...,\n",
       "        [86., 61., 53.],\n",
       "        [86., 61., 51.],\n",
       "        [87., 61., 50.]],\n",
       "\n",
       "       [[64., 57., 61.],\n",
       "        [65., 58., 61.],\n",
       "        [66., 57., 57.],\n",
       "        ...,\n",
       "        [87., 61., 53.],\n",
       "        [87., 61., 51.],\n",
       "        [87., 61., 49.]],\n",
       "\n",
       "       ...,\n",
       "\n",
       "       [[26., 18., 14.],\n",
       "        [27., 19., 15.],\n",
       "        [25., 16., 13.],\n",
       "        ...,\n",
       "        [23., 13.,  8.],\n",
       "        [23., 13.,  8.],\n",
       "        [25., 12.,  8.]],\n",
       "\n",
       "       [[26., 18., 14.],\n",
       "        [26., 18., 14.],\n",
       "        [25., 17., 13.],\n",
       "        ...,\n",
       "        [27., 16., 11.],\n",
       "        [20.,  9.,  4.],\n",
       "        [28., 15., 11.]],\n",
       "\n",
       "       [[24., 15., 13.],\n",
       "        [24., 15., 13.],\n",
       "        [25., 14., 13.],\n",
       "        ...,\n",
       "        [21., 10.,  6.],\n",
       "        [21., 10.,  5.],\n",
       "        [24., 11.,  6.]]], dtype=float32)"
      ]
     },
     "execution_count": 19,
     "metadata": {},
     "output_type": "execute_result"
    }
   ],
   "source": [
    "test_image"
   ]
  },
  {
   "cell_type": "code",
   "execution_count": 20,
   "id": "23809c7f",
   "metadata": {},
   "outputs": [],
   "source": [
    "test_image=test_image/255"
   ]
  },
  {
   "cell_type": "code",
   "execution_count": 21,
   "id": "8b5f6c86",
   "metadata": {},
   "outputs": [
    {
     "data": {
      "text/plain": [
       "array([[[0.25490198, 0.22745098, 0.24705882],\n",
       "        [0.25490198, 0.22745098, 0.24313726],\n",
       "        [0.2627451 , 0.22352941, 0.23921569],\n",
       "        ...,\n",
       "        [0.33333334, 0.23921569, 0.21568628],\n",
       "        [0.33333334, 0.23921569, 0.20784314],\n",
       "        [0.34117648, 0.23921569, 0.2       ]],\n",
       "\n",
       "       [[0.2509804 , 0.22352941, 0.23921569],\n",
       "        [0.25490198, 0.22745098, 0.23921569],\n",
       "        [0.2627451 , 0.22745098, 0.23137255],\n",
       "        ...,\n",
       "        [0.3372549 , 0.23921569, 0.20784314],\n",
       "        [0.3372549 , 0.23921569, 0.2       ],\n",
       "        [0.34117648, 0.23921569, 0.19607843]],\n",
       "\n",
       "       [[0.2509804 , 0.22352941, 0.23921569],\n",
       "        [0.25490198, 0.22745098, 0.23921569],\n",
       "        [0.25882354, 0.22352941, 0.22352941],\n",
       "        ...,\n",
       "        [0.34117648, 0.23921569, 0.20784314],\n",
       "        [0.34117648, 0.23921569, 0.2       ],\n",
       "        [0.34117648, 0.23921569, 0.19215687]],\n",
       "\n",
       "       ...,\n",
       "\n",
       "       [[0.10196079, 0.07058824, 0.05490196],\n",
       "        [0.10588235, 0.07450981, 0.05882353],\n",
       "        [0.09803922, 0.0627451 , 0.05098039],\n",
       "        ...,\n",
       "        [0.09019608, 0.05098039, 0.03137255],\n",
       "        [0.09019608, 0.05098039, 0.03137255],\n",
       "        [0.09803922, 0.04705882, 0.03137255]],\n",
       "\n",
       "       [[0.10196079, 0.07058824, 0.05490196],\n",
       "        [0.10196079, 0.07058824, 0.05490196],\n",
       "        [0.09803922, 0.06666667, 0.05098039],\n",
       "        ...,\n",
       "        [0.10588235, 0.0627451 , 0.04313726],\n",
       "        [0.07843138, 0.03529412, 0.01568628],\n",
       "        [0.10980392, 0.05882353, 0.04313726]],\n",
       "\n",
       "       [[0.09411765, 0.05882353, 0.05098039],\n",
       "        [0.09411765, 0.05882353, 0.05098039],\n",
       "        [0.09803922, 0.05490196, 0.05098039],\n",
       "        ...,\n",
       "        [0.08235294, 0.03921569, 0.02352941],\n",
       "        [0.08235294, 0.03921569, 0.01960784],\n",
       "        [0.09411765, 0.04313726, 0.02352941]]], dtype=float32)"
      ]
     },
     "execution_count": 21,
     "metadata": {},
     "output_type": "execute_result"
    }
   ],
   "source": [
    "test_image"
   ]
  },
  {
   "cell_type": "code",
   "execution_count": 22,
   "id": "87d22ba2",
   "metadata": {},
   "outputs": [],
   "source": [
    "test_image=np.expand_dims(test_image,axis=0)"
   ]
  },
  {
   "cell_type": "code",
   "execution_count": 23,
   "id": "7d94f909",
   "metadata": {},
   "outputs": [
    {
     "data": {
      "text/plain": [
       "array([[[[0.25490198, 0.22745098, 0.24705882],\n",
       "         [0.25490198, 0.22745098, 0.24313726],\n",
       "         [0.2627451 , 0.22352941, 0.23921569],\n",
       "         ...,\n",
       "         [0.33333334, 0.23921569, 0.21568628],\n",
       "         [0.33333334, 0.23921569, 0.20784314],\n",
       "         [0.34117648, 0.23921569, 0.2       ]],\n",
       "\n",
       "        [[0.2509804 , 0.22352941, 0.23921569],\n",
       "         [0.25490198, 0.22745098, 0.23921569],\n",
       "         [0.2627451 , 0.22745098, 0.23137255],\n",
       "         ...,\n",
       "         [0.3372549 , 0.23921569, 0.20784314],\n",
       "         [0.3372549 , 0.23921569, 0.2       ],\n",
       "         [0.34117648, 0.23921569, 0.19607843]],\n",
       "\n",
       "        [[0.2509804 , 0.22352941, 0.23921569],\n",
       "         [0.25490198, 0.22745098, 0.23921569],\n",
       "         [0.25882354, 0.22352941, 0.22352941],\n",
       "         ...,\n",
       "         [0.34117648, 0.23921569, 0.20784314],\n",
       "         [0.34117648, 0.23921569, 0.2       ],\n",
       "         [0.34117648, 0.23921569, 0.19215687]],\n",
       "\n",
       "        ...,\n",
       "\n",
       "        [[0.10196079, 0.07058824, 0.05490196],\n",
       "         [0.10588235, 0.07450981, 0.05882353],\n",
       "         [0.09803922, 0.0627451 , 0.05098039],\n",
       "         ...,\n",
       "         [0.09019608, 0.05098039, 0.03137255],\n",
       "         [0.09019608, 0.05098039, 0.03137255],\n",
       "         [0.09803922, 0.04705882, 0.03137255]],\n",
       "\n",
       "        [[0.10196079, 0.07058824, 0.05490196],\n",
       "         [0.10196079, 0.07058824, 0.05490196],\n",
       "         [0.09803922, 0.06666667, 0.05098039],\n",
       "         ...,\n",
       "         [0.10588235, 0.0627451 , 0.04313726],\n",
       "         [0.07843138, 0.03529412, 0.01568628],\n",
       "         [0.10980392, 0.05882353, 0.04313726]],\n",
       "\n",
       "        [[0.09411765, 0.05882353, 0.05098039],\n",
       "         [0.09411765, 0.05882353, 0.05098039],\n",
       "         [0.09803922, 0.05490196, 0.05098039],\n",
       "         ...,\n",
       "         [0.08235294, 0.03921569, 0.02352941],\n",
       "         [0.08235294, 0.03921569, 0.01960784],\n",
       "         [0.09411765, 0.04313726, 0.02352941]]]], dtype=float32)"
      ]
     },
     "execution_count": 23,
     "metadata": {},
     "output_type": "execute_result"
    }
   ],
   "source": [
    "test_image"
   ]
  },
  {
   "cell_type": "code",
   "execution_count": 24,
   "id": "79f79d30",
   "metadata": {},
   "outputs": [
    {
     "data": {
      "text/plain": [
       "0"
      ]
     },
     "execution_count": 24,
     "metadata": {},
     "output_type": "execute_result"
    }
   ],
   "source": [
    "predict=cnn.predict(test_image)\n",
    "result=np.argmax(predict[0], axis=0)\n",
    "result"
   ]
  },
  {
   "cell_type": "markdown",
   "id": "10da0f18",
   "metadata": {},
   "source": [
    "#Alert Alarm\n",
    "from pygame import mixer\n",
    "\n",
    "def fire_Alarm():\n",
    "    mixer.init() \n",
    "    sound=mixer.Sound(\"fire.wav\")\n",
    "    sound.play()"
   ]
  },
  {
   "cell_type": "code",
   "execution_count": 25,
   "id": "fddf1e3a",
   "metadata": {},
   "outputs": [
    {
     "name": "stdout",
     "output_type": "stream",
     "text": [
      "Fire\n"
     ]
    }
   ],
   "source": [
    "if result == 0:\n",
    "    print(\"Fire\")\n",
    "    mixer.init() \n",
    "    sound=mixer.Sound(\"fire4.mp3\")\n",
    "    sound.play()\n",
    "elif result == 1:\n",
    "    print(\"NoFire\")\n",
    "    mixer.init() \n",
    "    sound=mixer.Sound(\"NoFire.mp3\")\n",
    "    sound.play()\n",
    "elif result == 2:\n",
    "    print(\"Smoke\")\n",
    "    mixer.init() \n",
    "    sound=mixer.Sound(\"alert.mp3\")\n",
    "    sound.play()\n",
    "else:\n",
    "    print(\"Everything is Ok\")\n",
    "    mixer.init() \n",
    "    sound=mixer.Sound(\"ok.mp3\")\n",
    "    sound.play()"
   ]
  },
  {
   "cell_type": "code",
   "execution_count": null,
   "id": "4e13581b",
   "metadata": {},
   "outputs": [],
   "source": []
  }
 ],
 "metadata": {
  "kernelspec": {
   "display_name": "Python 3 (ipykernel)",
   "language": "python",
   "name": "python3"
  },
  "language_info": {
   "codemirror_mode": {
    "name": "ipython",
    "version": 3
   },
   "file_extension": ".py",
   "mimetype": "text/x-python",
   "name": "python",
   "nbconvert_exporter": "python",
   "pygments_lexer": "ipython3",
   "version": "3.9.12"
  }
 },
 "nbformat": 4,
 "nbformat_minor": 5
}
